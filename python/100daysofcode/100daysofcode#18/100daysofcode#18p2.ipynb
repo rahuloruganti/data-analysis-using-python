{
 "cells": [
  {
   "cell_type": "code",
   "execution_count": 1,
   "metadata": {},
   "outputs": [],
   "source": [
    "import colorgram\n"
   ]
  },
  {
   "cell_type": "code",
   "execution_count": 15,
   "metadata": {},
   "outputs": [],
   "source": [
    "color= colorgram.extract(\"Gemini_Generated_Image.jpg\",30)"
   ]
  },
  {
   "cell_type": "code",
   "execution_count": 16,
   "metadata": {},
   "outputs": [
    {
     "data": {
      "text/plain": [
       "[<colorgram.py Color: Rgb(r=204, g=163, b=110), 34.620539347330734%>,\n",
       " <colorgram.py Color: Rgb(r=120, g=91, b=65), 23.54100545247396%>,\n",
       " <colorgram.py Color: Rgb(r=55, g=39, b=28), 12.101830376519098%>,\n",
       " <colorgram.py Color: Rgb(r=76, g=108, b=92), 8.86336432562934%>,\n",
       " <colorgram.py Color: Rgb(r=32, g=51, b=46), 6.132634480794271%>,\n",
       " <colorgram.py Color: Rgb(r=225, g=198, b=135), 6.063630845811632%>,\n",
       " <colorgram.py Color: Rgb(r=147, g=134, b=93), 3.1330108642578125%>,\n",
       " <colorgram.py Color: Rgb(r=26, g=41, b=44), 1.781675550672743%>,\n",
       " <colorgram.py Color: Rgb(r=47, g=73, b=66), 0.9842766655815972%>,\n",
       " <colorgram.py Color: Rgb(r=90, g=54, b=41), 0.7831149631076388%>,\n",
       " <colorgram.py Color: Rgb(r=114, g=138, b=108), 0.6722344292534722%>,\n",
       " <colorgram.py Color: Rgb(r=76, g=64, b=46), 0.4219479031032986%>,\n",
       " <colorgram.py Color: Rgb(r=242, g=203, b=163), 0.3118726942274305%>,\n",
       " <colorgram.py Color: Rgb(r=72, g=81, b=84), 0.2087063259548611%>,\n",
       " <colorgram.py Color: Rgb(r=178, g=114, b=81), 0.15360514322916669%>,\n",
       " <colorgram.py Color: Rgb(r=37, g=30, b=32), 0.1483917236328125%>,\n",
       " <colorgram.py Color: Rgb(r=125, g=145, b=117), 0.031958685980902776%>,\n",
       " <colorgram.py Color: Rgb(r=84, g=75, b=77), 0.020726521809895836%>,\n",
       " <colorgram.py Color: Rgb(r=54, g=67, b=69), 0.012758043077256944%>,\n",
       " <colorgram.py Color: Rgb(r=231, g=180, b=155), 0.006612141927083333%>,\n",
       " <colorgram.py Color: Rgb(r=73, g=58, b=60), 0.0036451551649305555%>,\n",
       " <colorgram.py Color: Rgb(r=59, g=63, b=69), 0.002161661783854167%>,\n",
       " <colorgram.py Color: Rgb(r=149, g=156, b=157), 0.00016954210069444444%>,\n",
       " <colorgram.py Color: Rgb(r=154, g=140, b=142), 0.00012715657552083332%>]"
      ]
     },
     "execution_count": 16,
     "metadata": {},
     "output_type": "execute_result"
    }
   ],
   "source": [
    "color"
   ]
  },
  {
   "cell_type": "code",
   "execution_count": 17,
   "metadata": {},
   "outputs": [],
   "source": [
    "rgb_color=[]"
   ]
  },
  {
   "cell_type": "code",
   "execution_count": 18,
   "metadata": {},
   "outputs": [
    {
     "data": {
      "text/plain": [
       "[(204, 163, 110),\n",
       " (120, 91, 65),\n",
       " (55, 39, 28),\n",
       " (76, 108, 92),\n",
       " (32, 51, 46),\n",
       " (225, 198, 135),\n",
       " (147, 134, 93),\n",
       " (26, 41, 44),\n",
       " (47, 73, 66),\n",
       " (90, 54, 41),\n",
       " (114, 138, 108),\n",
       " (76, 64, 46),\n",
       " (242, 203, 163),\n",
       " (72, 81, 84),\n",
       " (178, 114, 81),\n",
       " (37, 30, 32),\n",
       " (125, 145, 117),\n",
       " (84, 75, 77),\n",
       " (54, 67, 69),\n",
       " (231, 180, 155),\n",
       " (73, 58, 60),\n",
       " (59, 63, 69),\n",
       " (149, 156, 157),\n",
       " (154, 140, 142)]"
      ]
     },
     "execution_count": 18,
     "metadata": {},
     "output_type": "execute_result"
    }
   ],
   "source": [
    "for i in color:\n",
    "    r=i.rgb.r\n",
    "    g=i.rgb.g\n",
    "    b=i.rgb.b\n",
    "    colors=(r,g,b)\n",
    "    rgb_color.append(colors)\n",
    "rgb_color"
   ]
  },
  {
   "cell_type": "code",
   "execution_count": 21,
   "metadata": {},
   "outputs": [],
   "source": [
    "import turtle\n",
    "from turtle import Turtle\n",
    "import random"
   ]
  },
  {
   "cell_type": "code",
   "execution_count": 28,
   "metadata": {},
   "outputs": [],
   "source": [
    "t=Turtle()\n",
    "turtle.colormode(255)\n",
    "t.color(random.choice(rgb_color))\n",
    "t.dot()\n",
    "t.forward(50)"
   ]
  },
  {
   "cell_type": "code",
   "execution_count": 24,
   "metadata": {},
   "outputs": [
    {
     "ename": "AttributeError",
     "evalue": "'tuple' object has no attribute '_color'",
     "output_type": "error",
     "traceback": [
      "\u001b[1;31m---------------------------------------------------------------------------\u001b[0m",
      "\u001b[1;31mAttributeError\u001b[0m                            Traceback (most recent call last)",
      "Cell \u001b[1;32mIn[24], line 1\u001b[0m\n\u001b[1;32m----> 1\u001b[0m \u001b[43mt\u001b[49m\u001b[38;5;241;43m.\u001b[39;49m\u001b[43mpencolor\u001b[49m\u001b[43m(\u001b[49m\u001b[43mrandom\u001b[49m\u001b[38;5;241;43m.\u001b[39;49m\u001b[43mchoice\u001b[49m\u001b[43m(\u001b[49m\u001b[43mrgb_color\u001b[49m\u001b[43m)\u001b[49m\u001b[43m)\u001b[49m\n\u001b[0;32m      2\u001b[0m t\u001b[38;5;241m.\u001b[39mdot()\n",
      "File \u001b[1;32mC:\\Program Files\\WindowsApps\\PythonSoftwareFoundation.Python.3.11_3.11.2288.0_x64__qbz5n2kfra8p0\\Lib\\turtle.py:2258\u001b[0m, in \u001b[0;36mTPen.pencolor\u001b[1;34m(self, *args)\u001b[0m\n\u001b[0;32m   2256\u001b[0m     \u001b[38;5;28mself\u001b[39m\u001b[38;5;241m.\u001b[39mpen(pencolor\u001b[38;5;241m=\u001b[39mcolor)\n\u001b[0;32m   2257\u001b[0m \u001b[38;5;28;01melse\u001b[39;00m:\n\u001b[1;32m-> 2258\u001b[0m     \u001b[38;5;28;01mreturn\u001b[39;00m \u001b[38;5;28;43mself\u001b[39;49m\u001b[38;5;241;43m.\u001b[39;49m\u001b[43m_color\u001b[49m(\u001b[38;5;28mself\u001b[39m\u001b[38;5;241m.\u001b[39m_pencolor)\n",
      "\u001b[1;31mAttributeError\u001b[0m: 'tuple' object has no attribute '_color'"
     ]
    }
   ],
   "source": []
  },
  {
   "cell_type": "code",
   "execution_count": null,
   "metadata": {},
   "outputs": [],
   "source": []
  }
 ],
 "metadata": {
  "kernelspec": {
   "display_name": "Python 3",
   "language": "python",
   "name": "python3"
  },
  "language_info": {
   "codemirror_mode": {
    "name": "ipython",
    "version": 3
   },
   "file_extension": ".py",
   "mimetype": "text/x-python",
   "name": "python",
   "nbconvert_exporter": "python",
   "pygments_lexer": "ipython3",
   "version": "3.11.8"
  }
 },
 "nbformat": 4,
 "nbformat_minor": 2
}
